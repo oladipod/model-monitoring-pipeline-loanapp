{
 "cells": [
  {
   "cell_type": "code",
   "execution_count": null,
   "id": "2f300844",
   "metadata": {},
   "outputs": [],
   "source": [
    "import datetime\n",
    "import sys\n",
    "import os\n",
    "import json\n",
    "import pandas as pd\n",
    "from sqlalchemy import create_engine\n",
    "from sqlalchemy.sql import text\n",
    "from importlib import reload\n",
    "\n",
    "sys.path.append(os.path.join(os.path.dirname(os.getcwd()), 'dags', 'src'))\n",
    "\n",
    "\n",
    "#%pip install psycopg2\n",
    "import psycopg2"
   ]
  },
  {
   "cell_type": "markdown",
   "id": "d8fbe174",
   "metadata": {},
   "source": [
    "### Query texts"
   ]
  },
  {
   "cell_type": "code",
   "execution_count": null,
   "id": "50b3bf59",
   "metadata": {},
   "outputs": [],
   "source": [
    "#transform app_time and filter the loan record within a specified application time range\n",
    "CREATE_TEMP_TABLE_LOAN = \"\"\"\n",
    "    create temp table loan as (\n",
    "        select \n",
    "            lower(t1.loan_id) loan_id,\n",
    "            lower(t1.customer_id) customer_id,\n",
    "            lower(t1.loan_status) loan_status,\n",
    "            cast(concat(split_part(t1.application_time, '-', 2), '-', split_part(t1.application_time, '-', 1), '-', split_part(t1.application_time, '-', 3)) as timestamp) application_time,\n",
    "            t1.current_loan_amount,\n",
    "            lower(t1.term) term,\n",
    "            t1.tax_liens,\n",
    "            lower(t1.purpose) purpose,\n",
    "            t1.no_of_properties \n",
    "        from (\n",
    "            select \n",
    "                row_number() over(partition by loan_id order by application_time desc) rnk,\n",
    "                ld.*\n",
    "            from (\n",
    "                select distinct * \n",
    "                from loan_details \n",
    "                where cast(concat(split_part(application_time, '-', 2), '-', split_part(application_time, '-', 1), '-', split_part(application_time, '-', 3)) as timestamp) between '{start_date}' and '{end_date}') ld\n",
    "        ) t1\n",
    "        where rnk=1\n",
    "    );\n",
    "\"\"\""
   ]
  },
  {
   "cell_type": "code",
   "execution_count": null,
   "id": "66f8b36a",
   "metadata": {},
   "outputs": [],
   "source": [
    "#get unique customers and their details\n",
    "\n",
    "CREATE_TEMP_TABLE_CUSTOMER = \"\"\"\n",
    "    create temp table customer as (\n",
    "        select t2.* \n",
    "        from (\n",
    "            select customer_id, count(*) cnt from (select distinct * from customer_details) cd \n",
    "            group by customer_id \n",
    "        ) t1 \n",
    "        join (select distinct * from customer_details) t2\n",
    "        on t2.customer_id = t1.customer_id\n",
    "        where t1.cnt=1\n",
    "    );\n",
    "\"\"\""
   ]
  },
  {
   "cell_type": "code",
   "execution_count": null,
   "id": "0159deb0",
   "metadata": {},
   "outputs": [],
   "source": [
    "#get credit details for each customer\n",
    "\n",
    "CREATE_TEMP_TABLE_CREDIT = \"\"\"\n",
    "    create temp table credit as (\n",
    "        select t2.* \n",
    "        from (\n",
    "            select customer_id, count(*) cnt from (select distinct * from credit_details) cd \n",
    "            group by customer_id \n",
    "        ) t1 \n",
    "        join (select distinct * from credit_details) t2\n",
    "        on t2.customer_id = t1.customer_id\n",
    "        where t1.cnt=1\n",
    "    );\n",
    "\"\"\""
   ]
  },
  {
   "cell_type": "code",
   "execution_count": null,
   "id": "517d3e0a",
   "metadata": {},
   "outputs": [],
   "source": [
    "#get loan data\n",
    "\n",
    "GET_DATA = \"\"\"\n",
    "    select \n",
    "        t1.loan_id, t1.customer_id, t1.loan_status, t1.application_time, t1.current_loan_amount, t1.term, t1.tax_liens, t1.purpose, t1.no_of_properties,\n",
    "        lower(t2.home_ownership) home_ownership, t2.annual_income, lower(t2.years_in_current_job) years_in_current_job, t2.months_since_last_delinquent, t2.no_of_cars, t2.no_of_children,\n",
    "        t3.credit_score, t3.monthly_debt, t3.years_of_credit_history, t3.no_of_open_accounts, t3.no_of_credit_problems, t3.current_credit_balance, t3.max_open_credit, t3.bankruptcies\n",
    "    from loan t1\n",
    "    left join customer t2\n",
    "    on t2.customer_id = t1.customer_id\n",
    "    left join credit t3\n",
    "    on t3.customer_id = t2.customer_id\n",
    "\"\"\""
   ]
  },
  {
   "cell_type": "code",
   "execution_count": null,
   "id": "52409c92",
   "metadata": {},
   "outputs": [],
   "source": [
    "def save_dataset(df:pd.DataFrame, path:str):\n",
    "    \"\"\"\n",
    "    Save dataframe to csv.\n",
    "    :param df: DataFrame\n",
    "    :param path: str\n",
    "    :return: None\n",
    "    \"\"\"\n",
    "    df.to_csv(path, index=False)\n",
    "    print(f\"[INFO] Dataset saved to {path}\")"
   ]
  },
  {
   "cell_type": "code",
   "execution_count": null,
   "id": "033adfc4",
   "metadata": {},
   "outputs": [],
   "source": [
    "import config\n",
    "credentials = json.load(open(config.PATH_TO_CREDENTIALS, 'r'))\n",
    "engine = create_engine(f\"postgresql://{credentials['user']}:{credentials['password']}@{credentials['host']}:{credentials['port']}/{credentials['database']}\")\n"
   ]
  },
  {
   "cell_type": "code",
   "execution_count": null,
   "id": "6870af40",
   "metadata": {},
   "outputs": [],
   "source": [
    "def extract_data(start_date, end_date=datetime.date.today()) -> pd.DataFrame:\n",
    "    \"\"\"\n",
    "    Extracts data from the database and returns it as a pandas dataframe.\n",
    "    :param start_date: datetime.date = start date of the data to be extracted\n",
    "    :param end_date: :datetime.date= end date of the data to be extracted\n",
    "    :return: pandas dataframe\n",
    "    \"\"\"\n",
    "    # assert start_date <= end_date, \"start_date must be less than end_date\"\n",
    "    if start_date > end_date:\n",
    "        raise ValueError(\"start_date must be less than end_date\")\n",
    "\n",
    "    print(\"[INFO] Extracting data from the database from {0} to {1} ...\".format(start_date, end_date))\n",
    "    helpers.engine.execute(text(\"\"\"drop table if exists customer;\"\"\").execution_options(autocommit=True))\n",
    "    helpers.engine.execute(text(CREATE_TEMP_TABLE_CUSTOMER).execution_options(autocommit=True))\n",
    "    helpers.engine.execute(text(\"\"\"drop table if exists loan;\"\"\").execution_options(autocommit=True))\n",
    "    helpers.engine.execute(text(CREATE_TEMP_TABLE_LOAN.format(start_date=start_date, end_date=end_date)).execution_options(autocommit=True))\n",
    "    helpers.engine.execute(text(\"\"\"drop table if exists credit;\"\"\").execution_options(autocommit=True))\n",
    "    helpers.engine.execute(text(CREATE_TEMP_TABLE_CREDIT).execution_options(autocommit=True))\n",
    "    df = pd.read_sql(text(GET_DATA), helpers.engine)\n",
    "    return df"
   ]
  },
  {
   "cell_type": "code",
   "execution_count": null,
   "id": "d30c1a78",
   "metadata": {},
   "outputs": [],
   "source": [
    "def collect_data(start_date, end_date = datetime.date.today(), job_id=None):\n",
    "    \"\"\"\n",
    "    Collects data from the database and dump them in the directory of raw data `config.PATH_DIR_DATA`.\n",
    "    :param start_date: start date of the data to be extracted\n",
    "    :param end_date: end date of the data to be extracted\n",
    "    :param job_id: job id of the data to be extracted\n",
    "    \"\"\"\n",
    "    assert isinstance(start_date, datetime.date)\n",
    "    assert isinstance(end_date, datetime.date)\n",
    "    assert isinstance(job_id, str)\n",
    "    assert start_date <= end_date\n",
    "    size = 0\n",
    "\n",
    "    df = extract_data(start_date, end_date)\n",
    "    size = df.shape[0]\n",
    "    filename = os.path.join(config.PATH_DIR_DATA, \"raw\", f\"{job_id}_\"+start_date.strftime(\"%Y-%m-%d\")+\"_\"+end_date.strftime(\"%Y-%m-%d\")+\".csv\")\n",
    "    helpers.save_dataset(df, filename)\n",
    "    return filename"
   ]
  },
  {
   "cell_type": "code",
   "execution_count": null,
   "id": "79acb529",
   "metadata": {},
   "outputs": [],
   "source": [
    "import helpers\n",
    "\n",
    "job_id = helpers.generate_uuid()\n",
    "start_date = datetime.date(2015, 1, 1)\n",
    "end_date = datetime.date(2015, 5, 31)\n",
    "print(\"job Id:\", job_id)\n"
   ]
  },
  {
   "cell_type": "code",
   "execution_count": null,
   "id": "634b411c",
   "metadata": {
    "scrolled": true
   },
   "outputs": [],
   "source": [
    "print(collect_data(start_date, end_date, job_id))"
   ]
  },
  {
   "cell_type": "code",
   "execution_count": null,
   "id": "d341fd81",
   "metadata": {},
   "outputs": [],
   "source": []
  }
 ],
 "metadata": {
  "kernelspec": {
   "display_name": "Python 3 (ipykernel)",
   "language": "python",
   "name": "python3"
  },
  "language_info": {
   "codemirror_mode": {
    "name": "ipython",
    "version": 3
   },
   "file_extension": ".py",
   "mimetype": "text/x-python",
   "name": "python",
   "nbconvert_exporter": "python",
   "pygments_lexer": "ipython3",
   "version": "3.8.13"
  }
 },
 "nbformat": 4,
 "nbformat_minor": 5
}
